{
 "cells": [
  {
   "cell_type": "markdown",
   "metadata": {
    "id": "elpVB6Z5Omyy"
   },
   "source": [
    "# Web Scraping\n",
    "We selected the earliest 155 pages (the earlier posts) from the Edmunds forum \"Entry Level Luxury Performance Sedans\" on the following website: https://forums.edmunds.com/discussion/2864/general/x/entry-level-luxury-performance-sedans/p"
   ]
  },
  {
   "cell_type": "code",
   "execution_count": null,
   "metadata": {
    "id": "A5mOKSeMOnV6"
   },
   "outputs": [],
   "source": [
    "# !kill -9 -1 # Use this line to delete this VM and start a new one. \n",
    "# The above line deletes all files and folders from the current VM and allocates a new one.\n",
    "\n",
    "!pip install selenium\n",
    "!apt-get -q update   #Used to handle installation and removal of softwares and libraries\n",
    "!apt install -yq chromium-chromedriver #ChromeDriver is a separate executable that Selenium WebDriver uses to control Chrome.\n",
    "!cp /usr/lib/chromium-browser/chromedriver /usr/bin\n",
    "\n",
    "import sys\n",
    "sys.path.insert(0,'/usr/lib/chromium-browser/chromedriver')\n",
    "from selenium import webdriver \n",
    "#WebDriver is a browser automation framework that works with open source APIs. \n",
    "#The framework operates by accepting commands, sending those commands to a browser, and interacting with applications.\n",
    "chrome_options = webdriver.ChromeOptions()\n",
    "chrome_options.add_argument('--headless')\n",
    "chrome_options.add_argument('--no-sandbox')\n",
    "chrome_options.add_argument('--disable-dev-shm-usage')\n",
    "\n",
    "comments = pd.DataFrame(columns = ['Date','user_id','comments']) \n",
    "\n",
    "for page in reversed(range(1,156)):\n",
    "  url = 'https://forums.edmunds.com/discussion/2864/general/x/entry-level-luxury-performance-sedans/p'+ str(page)\n",
    "  wd.get(url)\n",
    "  ids = wd.find_elements_by_xpath(\"//*[contains(@id,'Comment_')]\")#rather then giving path to a specific section, we want something that contains these things\n",
    "  comment_ids = []\n",
    "  \n",
    "  for i in ids:\n",
    "    comment_ids.append(i.get_attribute('id'))\n",
    "\n",
    "  for x in comment_ids:\n",
    "    #Extract dates from for each user on a page\n",
    "    user_date = wd.find_elements_by_xpath('//*[@id=\"' + x +'\"]/div/div[2]/div[2]/span[1]/a/time')[0]\n",
    "    date = user_date.get_attribute('title')\n",
    "\n",
    "    #Extract user ids from each user on a page\n",
    "    userid_element = wd.find_elements_by_xpath('//*[@id=\"' + x +'\"]/div/div[2]/div[1]/span[1]/a[2]')[0]\n",
    "    userid = userid_element.text\n",
    "\n",
    "    #Extract Message for each user on a page\n",
    "    user_message = wd.find_elements_by_xpath('//*[@id=\"' + x +'\"]/div/div[3]/div/div[1]')[0]\n",
    "    comment = user_message.text\n",
    "                                   \n",
    "    #Adding date, userid and comment for each user in a dataframe    \n",
    "    comments.loc[len(comments)] = [date,userid,comment]\n",
    "\n",
    "#export to google drive, need to change directory if running on your end\n",
    "from google.colab import drive\n",
    "drive.mount('/drive')\n",
    "\n",
    "comments.to_csv(\"/drive/My Drive/Grad/entry_lv_luxury.csv\", sep=\"\\t\")"
   ]
  },
  {
   "cell_type": "markdown",
   "metadata": {
    "id": "aeZ57zBNOzc2"
   },
   "source": [
    "# Data Pre-processing"
   ]
  },
  {
   "cell_type": "code",
   "execution_count": null,
   "metadata": {
    "colab": {
     "base_uri": "https://localhost:8080/"
    },
    "id": "stsGKlatKoaN",
    "outputId": "2722afb6-8308-43d2-88b7-45825b3273a9"
   },
   "outputs": [
    {
     "name": "stdout",
     "output_type": "stream",
     "text": [
      "[nltk_data] Downloading package punkt to /root/nltk_data...\n",
      "[nltk_data]   Unzipping tokenizers/punkt.zip.\n",
      "[nltk_data] Downloading package reuters to /root/nltk_data...\n"
     ]
    },
    {
     "data": {
      "text/plain": [
       "True"
      ]
     },
     "execution_count": 1,
     "metadata": {},
     "output_type": "execute_result"
    }
   ],
   "source": [
    "import nltk\n",
    "from nltk.corpus import reuters\n",
    "from nltk.corpus import wordnet\n",
    "import pandas as pd\n",
    "import numpy as np\n",
    "from nltk.tokenize import word_tokenize\n",
    "from nltk.probability import FreqDist\n",
    "nltk.download('punkt')\n",
    "nltk.download('reuters')"
   ]
  },
  {
   "cell_type": "code",
   "execution_count": null,
   "metadata": {
    "colab": {
     "base_uri": "https://localhost:8080/",
     "height": 143,
     "resources": {
      "http://localhost:8080/nbextensions/google.colab/files.js": {
       "data": "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",
       "headers": [
        [
         "content-type",
         "application/javascript"
        ]
       ],
       "ok": true,
       "status": 200,
       "status_text": ""
      }
     }
    },
    "id": "cpBmsjalrVDU",
    "outputId": "48cb4f67-e750-4c2d-c2d8-ea3b2f9c4dc4"
   },
   "outputs": [
    {
     "data": {
      "text/html": [
       "\n",
       "     <input type=\"file\" id=\"files-452dcd90-f873-4d7a-a793-f2c48501ef46\" name=\"files[]\" multiple disabled\n",
       "        style=\"border:none\" />\n",
       "     <output id=\"result-452dcd90-f873-4d7a-a793-f2c48501ef46\">\n",
       "      Upload widget is only available when the cell has been executed in the\n",
       "      current browser session. Please rerun this cell to enable.\n",
       "      </output>\n",
       "      <script src=\"/nbextensions/google.colab/files.js\"></script> "
      ],
      "text/plain": [
       "<IPython.core.display.HTML object>"
      ]
     },
     "metadata": {},
     "output_type": "display_data"
    },
    {
     "name": "stdout",
     "output_type": "stream",
     "text": [
      "Saving comments.csv to comments.csv\n",
      "Saving car models and brands.csv to car models and brands.csv\n",
      "Saving asp.csv to asp.csv\n"
     ]
    }
   ],
   "source": [
    "from google.colab import files\n",
    "uploaded = files.upload()"
   ]
  },
  {
   "cell_type": "code",
   "execution_count": null,
   "metadata": {
    "colab": {
     "base_uri": "https://localhost:8080/",
     "height": 205
    },
    "id": "NlCNsiCGNpSH",
    "outputId": "fe82d701-398a-4c42-b082-3baeca2bc337"
   },
   "outputs": [
    {
     "data": {
      "text/html": [
       "<div>\n",
       "<style scoped>\n",
       "    .dataframe tbody tr th:only-of-type {\n",
       "        vertical-align: middle;\n",
       "    }\n",
       "\n",
       "    .dataframe tbody tr th {\n",
       "        vertical-align: top;\n",
       "    }\n",
       "\n",
       "    .dataframe thead th {\n",
       "        text-align: right;\n",
       "    }\n",
       "</style>\n",
       "<table border=\"1\" class=\"dataframe\">\n",
       "  <thead>\n",
       "    <tr style=\"text-align: right;\">\n",
       "      <th></th>\n",
       "      <th>Unnamed: 0</th>\n",
       "      <th>date</th>\n",
       "      <th>message</th>\n",
       "    </tr>\n",
       "  </thead>\n",
       "  <tbody>\n",
       "    <tr>\n",
       "      <th>0</th>\n",
       "      <td>0</td>\n",
       "      <td>1/25/2007 20:38</td>\n",
       "      <td>pat, I think gas is cheaper everywhere else be...</td>\n",
       "    </tr>\n",
       "    <tr>\n",
       "      <th>1</th>\n",
       "      <td>1</td>\n",
       "      <td>1/25/2007 22:05</td>\n",
       "      <td>Needless to say I've been a fan of the CLK430 ...</td>\n",
       "    </tr>\n",
       "    <tr>\n",
       "      <th>2</th>\n",
       "      <td>2</td>\n",
       "      <td>1/25/2007 22:06</td>\n",
       "      <td>A CLK320 with a manual? What year was that? I ...</td>\n",
       "    </tr>\n",
       "    <tr>\n",
       "      <th>3</th>\n",
       "      <td>3</td>\n",
       "      <td>1/26/2007 0:58</td>\n",
       "      <td>Actually the first 1998 CLK W208 was based on ...</td>\n",
       "    </tr>\n",
       "    <tr>\n",
       "      <th>4</th>\n",
       "      <td>4</td>\n",
       "      <td>1/26/2007 4:30</td>\n",
       "      <td>I believe that you are correct, the CLK was ne...</td>\n",
       "    </tr>\n",
       "  </tbody>\n",
       "</table>\n",
       "</div>"
      ],
      "text/plain": [
       "   Unnamed: 0  ...                                            message\n",
       "0           0  ...  pat, I think gas is cheaper everywhere else be...\n",
       "1           1  ...  Needless to say I've been a fan of the CLK430 ...\n",
       "2           2  ...  A CLK320 with a manual? What year was that? I ...\n",
       "3           3  ...  Actually the first 1998 CLK W208 was based on ...\n",
       "4           4  ...  I believe that you are correct, the CLK was ne...\n",
       "\n",
       "[5 rows x 3 columns]"
      ]
     },
     "execution_count": 3,
     "metadata": {},
     "output_type": "execute_result"
    }
   ],
   "source": [
    "# read comments and select the first 5000 comments\n",
    "df = pd.read_csv('comments.csv',header=[0])\n",
    "df = df.head(5000)\n",
    "\n",
    "df.head()"
   ]
  },
  {
   "cell_type": "code",
   "execution_count": null,
   "metadata": {
    "colab": {
     "base_uri": "https://localhost:8080/"
    },
    "id": "xd_HGd58yIIG",
    "outputId": "9ec2d5f5-75ec-4204-a9c9-39729c9c33c2"
   },
   "outputs": [
    {
     "data": {
      "text/plain": [
       "0    [a, after, all, always, amg, and, at, august, ...\n",
       "1    [a, all, amg, and, any, are, areas, been, bett...\n",
       "2    [a, at, being, do, ever, i, in, least, m, manu...\n",
       "3    [actually, always, and, any, based, been, book...\n",
       "4    [a, about, after, america, an, are, as, been, ...\n",
       "Name: tokens, dtype: object"
      ]
     },
     "execution_count": 4,
     "metadata": {},
     "output_type": "execute_result"
    }
   ],
   "source": [
    "# turn words to str and lower case\n",
    "df['message'] = df['message'].astype(str)\n",
    "df['message'] = df['message'].str.lower()\n",
    "\n",
    "def identify_tokens(row):\n",
    "    tokens = nltk.word_tokenize(row)\n",
    "    # taken only words (not punctuation)\n",
    "    token_words = [w for w in tokens if w.isalpha()]\n",
    "    return token_words \n",
    "# tokenize words and calculate frequency\n",
    "df['tokens'] = df['message'].apply(identify_tokens)\n",
    "# find unique tokens\n",
    "df['tokens'] = df['tokens'].apply(lambda x: sorted(set(x)))\n",
    "# freq is a dictionary with models as key and frequency as value\n",
    "freq = FreqDist(w for row in df['tokens'] for w in row)\n",
    "\n",
    "df['tokens'].head()"
   ]
  },
  {
   "cell_type": "markdown",
   "metadata": {
    "id": "tI5LDnKNmPeN"
   },
   "source": [
    "## Task A: Plot the most common 100 words in the data against the theoretical prediction of the law"
   ]
  },
  {
   "cell_type": "code",
   "execution_count": null,
   "metadata": {
    "colab": {
     "base_uri": "https://localhost:8080/"
    },
    "id": "-WXPgLGL2lTg",
    "outputId": "800c0079-d21b-4741-e91a-57db6e547dad",
    "scrolled": true
   },
   "outputs": [
    {
     "data": {
      "text/plain": [
       "[('the', 4298),\n",
       " ('a', 3599),\n",
       " ('i', 3545),\n",
       " ('and', 3347),\n",
       " ('to', 3332),\n",
       " ('is', 3081),\n",
       " ('in', 2867),\n",
       " ('of', 2841),\n",
       " ('that', 2771),\n",
       " ('it', 2721),\n",
       " ('you', 2397),\n",
       " ('for', 2385),\n",
       " ('with', 2141),\n",
       " ('not', 1972),\n",
       " ('but', 1947),\n",
       " ('on', 1930),\n",
       " ('car', 1850),\n",
       " ('are', 1780),\n",
       " ('have', 1774),\n",
       " ('my', 1691),\n",
       " ('be', 1625),\n",
       " ('do', 1518),\n",
       " ('as', 1494),\n",
       " ('if', 1491),\n",
       " ('bmw', 1367),\n",
       " ('at', 1339),\n",
       " ('or', 1319),\n",
       " ('this', 1268),\n",
       " ('was', 1237),\n",
       " ('like', 1212),\n",
       " ('they', 1198),\n",
       " ('just', 1171),\n",
       " ('an', 1168),\n",
       " ('me', 1163),\n",
       " ('so', 1138),\n",
       " ('would', 1125),\n",
       " ('all', 1112),\n",
       " ('more', 1107),\n",
       " ('one', 1097),\n",
       " ('than', 1096),\n",
       " ('about', 1086),\n",
       " ('cars', 1080),\n",
       " ('what', 1071),\n",
       " ('has', 1062),\n",
       " ('can', 1022),\n",
       " ('get', 974),\n",
       " ('will', 965),\n",
       " ('your', 960),\n",
       " ('out', 913),\n",
       " ('from', 871),\n",
       " ('there', 852),\n",
       " ('think', 850),\n",
       " ('no', 841),\n",
       " ('up', 807),\n",
       " ('does', 804),\n",
       " ('when', 786),\n",
       " ('tl', 750),\n",
       " ('drive', 705),\n",
       " ('only', 690),\n",
       " ('by', 680),\n",
       " ('well', 675),\n",
       " ('even', 674),\n",
       " ('some', 666),\n",
       " ('better', 665),\n",
       " ('much', 664),\n",
       " ('new', 656),\n",
       " ('any', 645),\n",
       " ('performance', 619),\n",
       " ('lexus', 616),\n",
       " ('over', 612),\n",
       " ('other', 611),\n",
       " ('know', 601),\n",
       " ('how', 600),\n",
       " ('really', 591),\n",
       " ('their', 590),\n",
       " ('did', 589),\n",
       " ('also', 589),\n",
       " ('driving', 588),\n",
       " ('had', 583),\n",
       " ('good', 577),\n",
       " ('we', 571),\n",
       " ('sedan', 565),\n",
       " ('then', 561),\n",
       " ('best', 559),\n",
       " ('want', 548),\n",
       " ('too', 540),\n",
       " ('most', 539),\n",
       " ('very', 537),\n",
       " ('luxury', 535),\n",
       " ('still', 530),\n",
       " ('which', 529),\n",
       " ('same', 524),\n",
       " ('now', 519),\n",
       " ('price', 512),\n",
       " ('people', 511),\n",
       " ('am', 508),\n",
       " ('here', 496),\n",
       " ('see', 494),\n",
       " ('way', 487),\n",
       " ('could', 485)]"
      ]
     },
     "execution_count": 5,
     "metadata": {},
     "output_type": "execute_result"
    }
   ],
   "source": [
    "top100 = freq.most_common(100)\n",
    "top100"
   ]
  },
  {
   "cell_type": "code",
   "execution_count": null,
   "metadata": {
    "colab": {
     "base_uri": "https://localhost:8080/",
     "height": 287
    },
    "id": "KeMVPxbx3zpE",
    "outputId": "69ca3b9f-85b0-49a5-92cc-e441790f4868"
   },
   "outputs": [
    {
     "data": {
      "image/png": "[encoded data removed]",
      "text/plain": [
       "<Figure size 432x288 with 1 Axes>"
      ]
     },
     "metadata": {
      "needs_background": "light"
     },
     "output_type": "display_data"
    }
   ],
   "source": [
    "import matplotlib.pyplot as plt\n",
    "\n",
    "ranks = []\n",
    "freqs = []\n",
    "for rank, word in enumerate(top100):\n",
    "  ranks.append(rank+1)\n",
    "  freqs.append(word[1])\n",
    "\n",
    "plt.loglog(ranks, freqs,'ro')\n",
    "plt.xlabel('frequency(f)', fontsize=14, fontweight='bold')\n",
    "plt.ylabel('rank(r)', fontsize=14, fontweight='bold')\n",
    "plt.show()"
   ]
  },
  {
   "cell_type": "markdown",
   "metadata": {
    "id": "-lSJ2VY2lFVX"
   },
   "source": [
    "## Task B: Find the top 10 brands from frequency counts"
   ]
  },
  {
   "cell_type": "code",
   "execution_count": null,
   "metadata": {
    "colab": {
     "base_uri": "https://localhost:8080/",
     "height": 361
    },
    "id": "Xe0VFZTGkiMn",
    "outputId": "dc58945c-78f1-41ec-a7be-0d2ec15e8a34"
   },
   "outputs": [
    {
     "data": {
      "text/html": [
       "<div>\n",
       "<style scoped>\n",
       "    .dataframe tbody tr th:only-of-type {\n",
       "        vertical-align: middle;\n",
       "    }\n",
       "\n",
       "    .dataframe tbody tr th {\n",
       "        vertical-align: top;\n",
       "    }\n",
       "\n",
       "    .dataframe thead th {\n",
       "        text-align: right;\n",
       "    }\n",
       "</style>\n",
       "<table border=\"1\" class=\"dataframe\">\n",
       "  <thead>\n",
       "    <tr style=\"text-align: right;\">\n",
       "      <th></th>\n",
       "      <th>brand</th>\n",
       "      <th>brand_frequency</th>\n",
       "    </tr>\n",
       "  </thead>\n",
       "  <tbody>\n",
       "    <tr>\n",
       "      <th>1</th>\n",
       "      <td>bmw</td>\n",
       "      <td>1367</td>\n",
       "    </tr>\n",
       "    <tr>\n",
       "      <th>11</th>\n",
       "      <td>acura</td>\n",
       "      <td>362</td>\n",
       "    </tr>\n",
       "    <tr>\n",
       "      <th>8</th>\n",
       "      <td>infiniti</td>\n",
       "      <td>336</td>\n",
       "    </tr>\n",
       "    <tr>\n",
       "      <th>10</th>\n",
       "      <td>audi</td>\n",
       "      <td>272</td>\n",
       "    </tr>\n",
       "    <tr>\n",
       "      <th>13</th>\n",
       "      <td>volvo</td>\n",
       "      <td>156</td>\n",
       "    </tr>\n",
       "    <tr>\n",
       "      <th>2</th>\n",
       "      <td>mercedes</td>\n",
       "      <td>151</td>\n",
       "    </tr>\n",
       "    <tr>\n",
       "      <th>4</th>\n",
       "      <td>cadillac</td>\n",
       "      <td>129</td>\n",
       "    </tr>\n",
       "    <tr>\n",
       "      <th>5</th>\n",
       "      <td>honda</td>\n",
       "      <td>115</td>\n",
       "    </tr>\n",
       "    <tr>\n",
       "      <th>7</th>\n",
       "      <td>toyota</td>\n",
       "      <td>105</td>\n",
       "    </tr>\n",
       "    <tr>\n",
       "      <th>20</th>\n",
       "      <td>lincoln</td>\n",
       "      <td>91</td>\n",
       "    </tr>\n",
       "  </tbody>\n",
       "</table>\n",
       "</div>"
      ],
      "text/plain": [
       "       brand  brand_frequency\n",
       "1        bmw             1367\n",
       "11     acura              362\n",
       "8   infiniti              336\n",
       "10      audi              272\n",
       "13     volvo              156\n",
       "2   mercedes              151\n",
       "4   cadillac              129\n",
       "5      honda              115\n",
       "7     toyota              105\n",
       "20   lincoln               91"
      ]
     },
     "execution_count": 7,
     "metadata": {},
     "output_type": "execute_result"
    }
   ],
   "source": [
    "# read brand and model file\n",
    "brand_model = pd.read_csv('car models and brands.csv',header=[0])\n",
    "brand_model[:5]\n",
    "# map models with brands using a dictionary with models as key and brands as value \n",
    "brand_model = brand_model.set_index('Model')\n",
    "brand_model_dict = brand_model['Brand'].to_dict()\n",
    "\n",
    "## Get the frequency counts of all brands\n",
    "all_brands_dict = {your_key: freq[your_key] for your_key in freq.keys() if your_key in brand_model_dict.values()}\n",
    "all_brands = pd.DataFrame.from_dict(all_brands_dict, orient='index').reset_index()\n",
    "all_brands.columns = ['brand','brand_frequency']\n",
    "all_brands.sort_values('brand_frequency', ascending= False, inplace=True)\n",
    "all_brands = all_brands[~all_brands.brand.isin(['car','problem','sedan','seat'])]\n",
    "all_brands.head(10)"
   ]
  },
  {
   "cell_type": "markdown",
   "metadata": {
    "id": "Itocfaj16uw8"
   },
   "source": [
    "## Task C: Calculate lift ratios"
   ]
  },
  {
   "cell_type": "code",
   "execution_count": null,
   "metadata": {
    "id": "ebpKNRfvBMP8"
   },
   "outputs": [],
   "source": [
    "def lift_ratio(brand1, brand2, posts):\n",
    "    \n",
    "    brand1_num = 0\n",
    "    brand2_num = 0\n",
    "    both_num = 0\n",
    "    n = len(posts)\n",
    "\n",
    "    for post in posts:\n",
    "        if brand1 in post:\n",
    "            brand1_num += 1\n",
    "        if brand2 in post:\n",
    "            brand2_num += 1\n",
    "        if brand1 in post and brand2 in post:\n",
    "            both_num +=1\n",
    "            \n",
    "    if brand1 == brand2:\n",
    "        return \" \"\n",
    "    elif brand1_num == 0:\n",
    "        return (float(n) * both_num)/(brand2_num)\n",
    "    elif brand2_num == 0:\n",
    "        return (float (n) * both_num)/(brand1_num)\n",
    "    else:\n",
    "        return (float (n) * both_num)/(brand1_num * brand2_num)"
   ]
  },
  {
   "cell_type": "code",
   "execution_count": null,
   "metadata": {
    "id": "9_GwDU2sDwHK"
   },
   "outputs": [],
   "source": [
    "def lift_ratio_new(brand1, brand2, posts):\n",
    "    \n",
    "    brand1_num = 0\n",
    "    brand2_num = 0\n",
    "    both_num = 0\n",
    "    n = len(posts)\n",
    "\n",
    "    for post in posts:\n",
    "        if brand1 in post:\n",
    "            brand1_num += 1\n",
    "        if brand2 in post:\n",
    "            brand2_num += 1\n",
    "        if brand1 in post and brand2 in post:\n",
    "            both_num +=1\n",
    "            \n",
    "    if brand1 == brand2:\n",
    "        return 1\n",
    "    elif brand1_num == 0:\n",
    "        return (float(n) * both_num)/(brand2_num)\n",
    "    elif brand2_num == 0:\n",
    "        return (float (n) * both_num)/(brand1_num)\n",
    "    else:\n",
    "        return (float (n) * both_num)/(brand1_num * brand2_num)"
   ]
  },
  {
   "cell_type": "code",
   "execution_count": null,
   "metadata": {
    "id": "c9-w2cmTBMP9"
   },
   "outputs": [],
   "source": [
    "top10 = all_brands.head(10)\n",
    "\n",
    "brands_lifts = []\n",
    "for i, brand1 in top10.iterrows():\n",
    "    brand_lifts = []\n",
    "    for i, brand2 in top10.iterrows():\n",
    "        brand_lifts.append(lift_ratio(brand1.brand, brand2.brand, df.tokens))\n",
    "    brands_lifts.append(brand_lifts)"
   ]
  },
  {
   "cell_type": "code",
   "execution_count": null,
   "metadata": {
    "id": "pTx_hEdED2Pw"
   },
   "outputs": [],
   "source": [
    "brands_lifts_new = []\n",
    "for i, brand1 in top10.iterrows():\n",
    "    brand_lifts_new = []\n",
    "    for i, brand2 in top10.iterrows():\n",
    "        brand_lifts_new.append(lift_ratio_new(brand1.brand, brand2.brand, df.tokens))\n",
    "    brands_lifts_new.append(brand_lifts_new)\n",
    "\n",
    "brands_lifts_new = pd.DataFrame(data = brands_lifts_new)\n",
    "brands_lifts_new.index = top10.brand\n",
    "brands_lifts_new.columns = top10.brand"
   ]
  },
  {
   "cell_type": "code",
   "execution_count": null,
   "metadata": {
    "colab": {
     "base_uri": "https://localhost:8080/",
     "height": 392
    },
    "id": "6yiNgc6qBMP-",
    "outputId": "a11b4130-e70a-4127-b70e-ed543b269e56"
   },
   "outputs": [
    {
     "data": {
      "text/html": [
       "<div>\n",
       "<style scoped>\n",
       "    .dataframe tbody tr th:only-of-type {\n",
       "        vertical-align: middle;\n",
       "    }\n",
       "\n",
       "    .dataframe tbody tr th {\n",
       "        vertical-align: top;\n",
       "    }\n",
       "\n",
       "    .dataframe thead th {\n",
       "        text-align: right;\n",
       "    }\n",
       "</style>\n",
       "<table border=\"1\" class=\"dataframe\">\n",
       "  <thead>\n",
       "    <tr style=\"text-align: right;\">\n",
       "      <th>brand</th>\n",
       "      <th>bmw</th>\n",
       "      <th>acura</th>\n",
       "      <th>infiniti</th>\n",
       "      <th>audi</th>\n",
       "      <th>volvo</th>\n",
       "      <th>mercedes</th>\n",
       "      <th>cadillac</th>\n",
       "      <th>honda</th>\n",
       "      <th>toyota</th>\n",
       "      <th>lincoln</th>\n",
       "    </tr>\n",
       "    <tr>\n",
       "      <th>brand</th>\n",
       "      <th></th>\n",
       "      <th></th>\n",
       "      <th></th>\n",
       "      <th></th>\n",
       "      <th></th>\n",
       "      <th></th>\n",
       "      <th></th>\n",
       "      <th></th>\n",
       "      <th></th>\n",
       "      <th></th>\n",
       "    </tr>\n",
       "  </thead>\n",
       "  <tbody>\n",
       "    <tr>\n",
       "      <th>bmw</th>\n",
       "      <td></td>\n",
       "      <td>1.91976</td>\n",
       "      <td>2.11185</td>\n",
       "      <td>2.23224</td>\n",
       "      <td>1.50057</td>\n",
       "      <td>2.2285</td>\n",
       "      <td>2.18325</td>\n",
       "      <td>1.62209</td>\n",
       "      <td>1.53273</td>\n",
       "      <td>1.60776</td>\n",
       "    </tr>\n",
       "    <tr>\n",
       "      <th>acura</th>\n",
       "      <td>1.91976</td>\n",
       "      <td></td>\n",
       "      <td>5.34399</td>\n",
       "      <td>3.8085</td>\n",
       "      <td>2.65618</td>\n",
       "      <td>3.29296</td>\n",
       "      <td>4.92526</td>\n",
       "      <td>4.3238</td>\n",
       "      <td>1.84162</td>\n",
       "      <td>2.58029</td>\n",
       "    </tr>\n",
       "    <tr>\n",
       "      <th>infiniti</th>\n",
       "      <td>2.11185</td>\n",
       "      <td>5.34399</td>\n",
       "      <td></td>\n",
       "      <td>3.93908</td>\n",
       "      <td>2.19399</td>\n",
       "      <td>3.05503</td>\n",
       "      <td>3.6914</td>\n",
       "      <td>2.07039</td>\n",
       "      <td>1.8424</td>\n",
       "      <td>1.47174</td>\n",
       "    </tr>\n",
       "    <tr>\n",
       "      <th>audi</th>\n",
       "      <td>2.23224</td>\n",
       "      <td>3.8085</td>\n",
       "      <td>3.93908</td>\n",
       "      <td></td>\n",
       "      <td>4.9491</td>\n",
       "      <td>5.23471</td>\n",
       "      <td>5.12996</td>\n",
       "      <td>1.75831</td>\n",
       "      <td>1.05042</td>\n",
       "      <td>2.22204</td>\n",
       "    </tr>\n",
       "    <tr>\n",
       "      <th>volvo</th>\n",
       "      <td>1.50057</td>\n",
       "      <td>2.65618</td>\n",
       "      <td>2.19399</td>\n",
       "      <td>4.9491</td>\n",
       "      <td></td>\n",
       "      <td>6.3678</td>\n",
       "      <td>3.22997</td>\n",
       "      <td>3.34448</td>\n",
       "      <td>2.442</td>\n",
       "      <td>2.46548</td>\n",
       "    </tr>\n",
       "    <tr>\n",
       "      <th>mercedes</th>\n",
       "      <td>2.2285</td>\n",
       "      <td>3.29296</td>\n",
       "      <td>3.05503</td>\n",
       "      <td>5.23471</td>\n",
       "      <td>6.3678</td>\n",
       "      <td></td>\n",
       "      <td>5.64711</td>\n",
       "      <td>2.87936</td>\n",
       "      <td>2.20751</td>\n",
       "      <td>3.63875</td>\n",
       "    </tr>\n",
       "    <tr>\n",
       "      <th>cadillac</th>\n",
       "      <td>2.18325</td>\n",
       "      <td>4.92526</td>\n",
       "      <td>3.6914</td>\n",
       "      <td>5.12996</td>\n",
       "      <td>3.22997</td>\n",
       "      <td>5.64711</td>\n",
       "      <td></td>\n",
       "      <td>2.02224</td>\n",
       "      <td>0.36914</td>\n",
       "      <td>8.09268</td>\n",
       "    </tr>\n",
       "    <tr>\n",
       "      <th>honda</th>\n",
       "      <td>1.62209</td>\n",
       "      <td>4.3238</td>\n",
       "      <td>2.07039</td>\n",
       "      <td>1.75831</td>\n",
       "      <td>3.34448</td>\n",
       "      <td>2.87936</td>\n",
       "      <td>2.02224</td>\n",
       "      <td></td>\n",
       "      <td>10.352</td>\n",
       "      <td>1.43335</td>\n",
       "    </tr>\n",
       "    <tr>\n",
       "      <th>toyota</th>\n",
       "      <td>1.53273</td>\n",
       "      <td>1.84162</td>\n",
       "      <td>1.8424</td>\n",
       "      <td>1.05042</td>\n",
       "      <td>2.442</td>\n",
       "      <td>2.20751</td>\n",
       "      <td>0.36914</td>\n",
       "      <td>10.352</td>\n",
       "      <td></td>\n",
       "      <td>1.56986</td>\n",
       "    </tr>\n",
       "    <tr>\n",
       "      <th>lincoln</th>\n",
       "      <td>1.60776</td>\n",
       "      <td>2.58029</td>\n",
       "      <td>1.47174</td>\n",
       "      <td>2.22204</td>\n",
       "      <td>2.46548</td>\n",
       "      <td>3.63875</td>\n",
       "      <td>8.09268</td>\n",
       "      <td>1.43335</td>\n",
       "      <td>1.56986</td>\n",
       "      <td></td>\n",
       "    </tr>\n",
       "  </tbody>\n",
       "</table>\n",
       "</div>"
      ],
      "text/plain": [
       "brand         bmw    acura infiniti  ...    honda   toyota  lincoln\n",
       "brand                                ...                           \n",
       "bmw                1.91976  2.11185  ...  1.62209  1.53273  1.60776\n",
       "acura     1.91976           5.34399  ...   4.3238  1.84162  2.58029\n",
       "infiniti  2.11185  5.34399           ...  2.07039   1.8424  1.47174\n",
       "audi      2.23224   3.8085  3.93908  ...  1.75831  1.05042  2.22204\n",
       "volvo     1.50057  2.65618  2.19399  ...  3.34448    2.442  2.46548\n",
       "mercedes   2.2285  3.29296  3.05503  ...  2.87936  2.20751  3.63875\n",
       "cadillac  2.18325  4.92526   3.6914  ...  2.02224  0.36914  8.09268\n",
       "honda     1.62209   4.3238  2.07039  ...            10.352  1.43335\n",
       "toyota    1.53273  1.84162   1.8424  ...   10.352           1.56986\n",
       "lincoln   1.60776  2.58029  1.47174  ...  1.43335  1.56986         \n",
       "\n",
       "[10 rows x 10 columns]"
      ]
     },
     "execution_count": 10,
     "metadata": {},
     "output_type": "execute_result"
    }
   ],
   "source": [
    "\n",
    "brands_lifts = pd.DataFrame(data = brands_lifts)\n",
    "brands_lifts.index = top10.brand\n",
    "brands_lifts.columns = top10.brand\n",
    "\n",
    "brands_lifts"
   ]
  },
  {
   "cell_type": "markdown",
   "metadata": {
    "id": "wCd6y4q77Hbb"
   },
   "source": [
    "## Task D: MDS map"
   ]
  },
  {
   "cell_type": "code",
   "execution_count": null,
   "metadata": {
    "colab": {
     "base_uri": "https://localhost:8080/"
    },
    "id": "4SkBd0tlBMP-",
    "outputId": "dc6e61b1-3660-4351-b191-4f9ea773b5f7"
   },
   "outputs": [
    {
     "name": "stderr",
     "output_type": "stream",
     "text": [
      "/usr/local/lib/python3.7/dist-packages/sklearn/manifold/_mds.py:419: UserWarning: The MDS API has changed. ``fit`` now constructs an dissimilarity matrix from data. To use a custom dissimilarity matrix, set ``dissimilarity='precomputed'``.\n",
      "  warnings.warn(\"The MDS API has changed. ``fit`` now constructs an\"\n"
     ]
    }
   ],
   "source": [
    "from sklearn.manifold import MDS\n",
    "from sklearn.preprocessing import MinMaxScaler\n",
    "from sklearn.metrics import pairwise_distances\n",
    "brand_distances = pd.DataFrame()\n",
    "for x in brands_lifts.columns:\n",
    "  brand_distances[x] = 1/brands_lifts_new[x]\n",
    "#scaler = MinMaxScaler()\n",
    "#bd_scaled = scaler.fit_transform(brand_distances)\n",
    "for i in range(len(brand_distances.columns)):\n",
    "    brand_distances.iloc[i,i] = 0\n",
    "#true_bd = pairwise_distances(brand_distances)\n",
    "mds = MDS(2)#, dissimilarity = 'precomputed')\n",
    "brand_2d = mds.fit_transform(brand_distances)"
   ]
  },
  {
   "cell_type": "code",
   "execution_count": null,
   "metadata": {
    "colab": {
     "base_uri": "https://localhost:8080/",
     "height": 265
    },
    "id": "W7wpKVwHBMP_",
    "outputId": "b9af4644-0a21-44f8-d5a5-4cfe8f9ecd35"
   },
   "outputs": [
    {
     "data": {
      "image/png": "[encoded data removed]",
      "text/plain": [
       "<Figure size 432x288 with 1 Axes>"
      ]
     },
     "metadata": {
      "needs_background": "light"
     },
     "output_type": "display_data"
    }
   ],
   "source": [
    "for i in range(len(brands_lifts.columns)):\n",
    "    subset = brand_2d[i]\n",
    "    x = subset[0]\n",
    "    y = subset[1]\n",
    "    plt.scatter(x,y,label=brands_lifts.columns[i])\n",
    "    plt.annotate(brands_lifts.columns[i], (x, y))\n"
   ]
  },
  {
   "cell_type": "code",
   "execution_count": null,
   "metadata": {
    "colab": {
     "base_uri": "https://localhost:8080/",
     "height": 321
    },
    "id": "NxwDD5JZBMP_",
    "outputId": "379adc6b-7cb7-4f5a-e013-c42168f7ddbc"
   },
   "outputs": [
    {
     "name": "stderr",
     "output_type": "stream",
     "text": [
      "/usr/local/lib/python3.7/dist-packages/sklearn/manifold/_mds.py:419: UserWarning: The MDS API has changed. ``fit`` now constructs an dissimilarity matrix from data. To use a custom dissimilarity matrix, set ``dissimilarity='precomputed'``.\n",
      "  warnings.warn(\"The MDS API has changed. ``fit`` now constructs an\"\n"
     ]
    },
    {
     "data": {
      "image/png": "[encoded data removed]",
      "text/plain": [
       "<Figure size 432x288 with 1 Axes>"
      ]
     },
     "metadata": {
      "needs_background": "light"
     },
     "output_type": "display_data"
    }
   ],
   "source": [
    "brand_distances = pd.DataFrame()\n",
    "for x in brands_lifts.columns:\n",
    "    brand_distances[x] = 1/brands_lifts_new[x]\n",
    "\n",
    "for i in range(len(brand_distances.columns)):\n",
    "    brand_distances.iloc[i,i] = 0\n",
    "\n",
    "brand_distances = brand_distances.drop(['cadillac'], axis = 1)\n",
    "brand_distances = brand_distances.drop(['cadillac'], axis = 0)\n",
    "#brand_distances = brand_distances.drop(['toyota'], axis = 1)\n",
    "#brand_distances = brand_distances.drop(['toyota'], axis = 0)\n",
    "\n",
    "mds = MDS(2)\n",
    "brand_2d = mds.fit_transform(brand_distances)\n",
    "\n",
    "for i in range(len(brand_distances.columns)):\n",
    "    subset = brand_2d[i]\n",
    "    x = subset[0]\n",
    "    y = subset[1]\n",
    "    plt.scatter(x,y,label=brand_distances.columns[i])\n",
    "    plt.annotate(brand_distances.columns[i], (x, y))"
   ]
  },
  {
   "cell_type": "markdown",
   "metadata": {
    "id": "0HPVPa4_7QbJ"
   },
   "source": [
    "## Task E: What insights can you offer to your client from your analyses in Tasks C and D?\n",
    "\n"
   ]
  },
  {
   "cell_type": "markdown",
   "metadata": {
    "id": "pSCypM2c-xth"
   },
   "source": [
    "Based on the placement on the MDS map, Toyota and Honda are close to each other, which means that they share some common attributes and are treated as similar brands by consumers. This is also validated by the high lift value of around 10.35. We think this result makes sense because Toyota and Honda are both known as comfortable family cars with reasonable costs. Therefore, there is a high probability that the consumers switch between these two brands. \n",
    "\n",
    "We also found that Infiniti and Acura are close on the MDS map with a lift value of 5.34, which means that they are frequently mentioned by consumers. In the market of new luxury cars, they are two popular brands to compare, because they both offer high performance, high-tech features, and stylish interiors. In addition, their comparable prices are appealing to customers who pursue quality while paying attention to the bargain.\n",
    "\n",
    "From the Lift table, Lincoln and Cadillac have the second-highest association value with 8.09. It is 8.09 times more likely that Cadillac and Lincoln are mentioned in the same comments than expected. This means that consumers would more often than not compare Lincoln and Cadillac, making them competitors in the car market. Moreover, it would be much easier for consumers to make the switch between these two brands.\n",
    "\n",
    "\n",
    "On the other hand, the probability that Cadillac and Toyota are compared together is less than what you would expect to see due to randomness. There is virtually no association between these two brands with a lift value of 0.36. What this means for these two brands is that Cadillac and Toyota are not necessarily competitors since they are essentially not comparable. However, a consumer can make a purchase from one of these brands to the other if they are looking for something very different. \n",
    "\n",
    "Knowing these opposing values, we can see that the MDS map accounts for the low lift values between Cadillac and Toyota by distorting the distances between car brands. While Cadillac and Lincoln are oftentimes mentioned together, it seems that the distance between Cadillac and the other brands is larger due to the low lift value between Cadillac and Toyota. The same thing could be said for Toyota and the other brands, with Toyota having the smallest distance from Honda.\n",
    "\n",
    "The lift association between Volvo and Mercedes is also relatively high at 6.37. It would make sense given that these two cars are historically seen as luxury cars (which you can also see in the attributes table against brands in Task F). Furthermore, Mercedes is at least twice more than likely to be mentioned with all the other top nine brands, while this condition also applies to Volvo against eight other brands. This is also reflected by the MDS maps with Volvo and Mercedes being the apparent centers. What this essentially means is that for the top 10 most frequently mentioned brands, Volvo and Mercedes should be receptive to consumers’ purchase switches towards all the other brands. \n",
    "\n",
    "\n",
    "\n",
    "\n",
    "\n",
    "\n"
   ]
  },
  {
   "cell_type": "markdown",
   "metadata": {
    "id": "TOEX7vkm7jSl"
   },
   "source": [
    "## Task F: : What are 5 most frequently mentioned attributes or features of cars in the discussions? Which attributes are most strongly associated with which of these 5 brands? "
   ]
  },
  {
   "cell_type": "code",
   "execution_count": null,
   "metadata": {
    "colab": {
     "base_uri": "https://localhost:8080/"
    },
    "id": "06fbvA3d7t0j",
    "outputId": "3c1c940d-dac0-4877-9a48-bb183acff03a"
   },
   "outputs": [
    {
     "name": "stdout",
     "output_type": "stream",
     "text": [
      "[nltk_data] Downloading package stopwords to /root/nltk_data...\n",
      "[nltk_data]   Package stopwords is already up-to-date!\n",
      "[nltk_data] Downloading package punkt to /root/nltk_data...\n",
      "[nltk_data]   Package punkt is already up-to-date!\n"
     ]
    }
   ],
   "source": [
    "# Import required functions from the libraries\n",
    "nltk.download('stopwords')\n",
    "from nltk.tokenize import word_tokenize\n",
    "from nltk.probability import FreqDist\n",
    "from nltk.corpus import stopwords\n",
    "from nltk.tokenize import RegexpTokenizer # to remove punctuations\n",
    "import re\n",
    "import nltk\n",
    "nltk.download('punkt')\n",
    "\n",
    "model_brand = pd.read_csv(\"car models and brands.csv\", header = None)\n",
    "model_brand.columns = ['brand','model']\n",
    "model_brand = model_brand.set_index('model')\n",
    "model_brand_dict = model_brand[\"brand\"].to_dict()"
   ]
  },
  {
   "cell_type": "code",
   "execution_count": null,
   "metadata": {
    "colab": {
     "base_uri": "https://localhost:8080/"
    },
    "id": "BRVnn18X9Pv_",
    "outputId": "4243c791-54fe-4947-838e-ac9f2b193d9d"
   },
   "outputs": [
    {
     "data": {
      "text/plain": [
       "[('car', 1850),\n",
       " ('bmw', 1367),\n",
       " ('like', 1212),\n",
       " ('would', 1125),\n",
       " ('one', 1097),\n",
       " ('cars', 1080),\n",
       " ('get', 974),\n",
       " ('think', 850),\n",
       " ('tl', 750),\n",
       " ('drive', 705),\n",
       " ('well', 675),\n",
       " ('even', 674),\n",
       " ('better', 665),\n",
       " ('much', 664),\n",
       " ('new', 656),\n",
       " ('performance', 619),\n",
       " ('lexus', 616),\n",
       " ('know', 601),\n",
       " ('really', 591),\n",
       " ('also', 589),\n",
       " ('driving', 588),\n",
       " ('good', 577),\n",
       " ('sedan', 565),\n",
       " ('best', 559),\n",
       " ('want', 548),\n",
       " ('luxury', 535),\n",
       " ('still', 530),\n",
       " ('price', 512),\n",
       " ('people', 511),\n",
       " ('see', 494),\n",
       " ('way', 487),\n",
       " ('could', 485),\n",
       " ('time', 467),\n",
       " ('make', 464),\n",
       " ('back', 431),\n",
       " ('years', 429),\n",
       " ('manual', 428),\n",
       " ('buy', 426),\n",
       " ('series', 424),\n",
       " ('go', 420),\n",
       " ('say', 414),\n",
       " ('interior', 408),\n",
       " ('going', 406),\n",
       " ('great', 394),\n",
       " ('many', 392),\n",
       " ('handling', 389),\n",
       " ('engine', 385),\n",
       " ('right', 363),\n",
       " ('acura', 362),\n",
       " ('less', 354),\n",
       " ('ca', 354),\n",
       " ('lot', 346),\n",
       " ('need', 339),\n",
       " ('got', 336),\n",
       " ('infiniti', 336),\n",
       " ('take', 332),\n",
       " ('sport', 329),\n",
       " ('said', 328),\n",
       " ('never', 325),\n",
       " ('year', 322),\n",
       " ('look', 322),\n",
       " ('last', 319),\n",
       " ('around', 318),\n",
       " ('since', 315),\n",
       " ('sure', 314),\n",
       " ('two', 313),\n",
       " ('point', 311),\n",
       " ('agree', 308),\n",
       " ('first', 307),\n",
       " ('may', 307),\n",
       " ('feel', 306),\n",
       " ('thing', 303),\n",
       " ('hp', 298),\n",
       " ('test', 294),\n",
       " ('however', 288),\n",
       " ('rwd', 287),\n",
       " ('looking', 286),\n",
       " ('power', 285),\n",
       " ('actually', 279),\n",
       " ('maybe', 275),\n",
       " ('cts', 275),\n",
       " ('probably', 273),\n",
       " ('getting', 272),\n",
       " ('audi', 272),\n",
       " ('least', 271),\n",
       " ('different', 269),\n",
       " ('something', 269),\n",
       " ('little', 267),\n",
       " ('far', 265),\n",
       " ('awd', 265),\n",
       " ('yes', 261),\n",
       " ('believe', 258),\n",
       " ('though', 257),\n",
       " ('big', 257),\n",
       " ('difference', 257),\n",
       " ('rocky', 257),\n",
       " ('guess', 256),\n",
       " ('us', 254),\n",
       " ('might', 249),\n",
       " ('find', 246),\n",
       " ('every', 246)]"
      ]
     },
     "execution_count": 26,
     "metadata": {},
     "output_type": "execute_result"
    }
   ],
   "source": [
    "## Removing stop words, punctuation and tokenizing\n",
    "\n",
    "stop = stopwords.words('english')\n",
    "\n",
    "df[\"message\"] = df[\"message\"].astype(str)\n",
    "df[\"tokens\"] = df[\"message\"].apply(lambda each_post: word_tokenize(re.sub(r'[^\\w\\s]',' ',each_post.lower())))\n",
    "df[\"tokens\"] = df[\"tokens\"].apply(lambda list_of_words: [x if x not in model_brand_dict else model_brand_dict[x] for x in list_of_words])\n",
    "df[\"tokens\"] = df[\"tokens\"].apply(lambda list_of_words: [x for x in list_of_words if x not in stop])\n",
    "\n",
    "df[\"unique\"] = df[\"tokens\"].apply(lambda x: sorted(set(x)))\n",
    "\n",
    "newvalues = {}\n",
    "for key,value in freq.items():\n",
    "  if key in stop:\n",
    "    continue\n",
    "  newvalues[key] = value\n",
    "\n",
    "newvalues = sorted(newvalues.items(), key=lambda x: x[1], reverse=True)\n",
    "newvalues[:101]"
   ]
  },
  {
   "cell_type": "code",
   "execution_count": null,
   "metadata": {
    "colab": {
     "base_uri": "https://localhost:8080/"
    },
    "id": "pE4qHalS9fNO",
    "outputId": "6dda1f5c-5651-4aa6-df96-239a87807723"
   },
   "outputs": [
    {
     "name": "stdout",
     "output_type": "stream",
     "text": [
      "    attributes\n",
      "0  performance\n",
      "1      driving\n",
      "2       luxury\n",
      "3        price\n",
      "4       manual\n",
      "      brand\n",
      "0       bmw\n",
      "1     acura\n",
      "2  infiniti\n",
      "3      audi\n",
      "4     volvo\n",
      "5  mercedes\n",
      "6  cadillac\n",
      "7     honda\n",
      "8    toyota\n",
      "9   lincoln\n"
     ]
    }
   ],
   "source": [
    "Attributes= ['performance','driving','luxury','price','manual']\n",
    "Attributes_df = pd.DataFrame(Attributes, columns=['attributes'])\n",
    "print(Attributes_df)\n",
    "Car_brands=['bmw','acura','infiniti','audi','volvo', 'mercedes', 'cadillac', 'honda', 'toyota', 'lincoln']\n",
    "Carbrands_df = pd.DataFrame(Car_brands, columns=['brand'])\n",
    "print(Carbrands_df)"
   ]
  },
  {
   "cell_type": "code",
   "execution_count": null,
   "metadata": {
    "id": "3j5cweq098a_"
   },
   "outputs": [],
   "source": [
    "def calculate_lift(a, b, token_post):\n",
    "    num_a = 0\n",
    "    num_b = 0\n",
    "    num_a_b = 0\n",
    "    n = len(token_post)\n",
    "    if a==b:\n",
    "        return 1\n",
    "    for i in token_post:\n",
    "        if a in i:\n",
    "            num_a += 1\n",
    "        if b in i:\n",
    "            num_b += 1\n",
    "        if a in i and b in i:\n",
    "            num_a_b += 1\n",
    "    if num_a == 0:\n",
    "        return (float(n)*num_a_b)/(num_b)\n",
    "    elif num_b == 0:\n",
    "        return (float(n)*num_a_b)/(num_a)\n",
    "    else:\n",
    "        return (float(n)*num_a_b)/(num_a*num_b)"
   ]
  },
  {
   "cell_type": "code",
   "execution_count": null,
   "metadata": {
    "colab": {
     "base_uri": "https://localhost:8080/"
    },
    "id": "u5CyzYgo-BXO",
    "outputId": "0da43542-9794-4e43-d322-7d9b79ee90b7"
   },
   "outputs": [
    {
     "name": "stdout",
     "output_type": "stream",
     "text": [
      "       brand    attribute      lift\n",
      "12     acura       luxury  2.045220\n",
      "13     acura        price  1.747612\n",
      "10     acura  performance  1.424245\n",
      "14     acura       manual  1.352004\n",
      "11     acura      driving  1.351351\n",
      "24      audi       manual  1.762205\n",
      "22      audi       luxury  1.748819\n",
      "23      audi        price  1.642980\n",
      "21      audi      driving  1.637276\n",
      "20      audi  performance  1.525797\n",
      "8        bmw        price  1.693910\n",
      "5        bmw  performance  1.516732\n",
      "6        bmw      driving  1.443295\n",
      "7        bmw       luxury  1.410230\n",
      "9        bmw       manual  1.266879\n",
      "37  cadillac       luxury  2.454210\n",
      "38  cadillac        price  2.098372\n",
      "35  cadillac  performance  1.521401\n",
      "39  cadillac       manual  1.163409\n",
      "36  cadillac      driving  0.979240\n",
      "41     honda      driving  2.150348\n",
      "42     honda       luxury  1.804403\n",
      "40     honda  performance  1.717410\n",
      "43     honda        price  1.539664\n",
      "44     honda       manual  1.442281\n",
      "17  infiniti       luxury  1.870557\n",
      "18  infiniti        price  1.692168\n",
      "16  infiniti      driving  1.376376\n",
      "15  infiniti  performance  1.363209\n",
      "19  infiniti       manual  1.245894\n",
      "52   lincoln       luxury  3.518154\n",
      "50   lincoln  performance  2.455595\n",
      "53   lincoln        price  1.460577\n",
      "54   lincoln       manual  1.358040\n",
      "51   lincoln      driving  0.889047\n",
      "33  mercedes        price  1.980002\n",
      "32  mercedes       luxury  1.828237\n",
      "30  mercedes  performance  1.595087\n",
      "34  mercedes       manual  0.588097\n",
      "31  mercedes      driving  0.433125\n",
      "47    toyota       luxury  2.341235\n",
      "45    toyota  performance  1.973028\n",
      "46    toyota      driving  1.764825\n",
      "49    toyota       manual  1.540463\n",
      "48    toyota        price  1.267792\n",
      "27     volvo       luxury  2.716692\n",
      "25     volvo  performance  1.829659\n",
      "28     volvo        price  1.651766\n",
      "29     volvo       manual  1.042535\n",
      "26     volvo      driving  0.993641\n"
     ]
    }
   ],
   "source": [
    "df_lift_br_att = pd.DataFrame(columns=['brand','attribute','lift'])\n",
    "i=5\n",
    "for  brand in Carbrands_df['brand']:\n",
    "    for attributes in Attributes_df['attributes']:\n",
    "        temp_lift=calculate_lift(str(brand), str(attributes), df.unique)\n",
    "        df_lift_br_att.loc[i]=[ str(brand),str(attributes),temp_lift]\n",
    "        i=i+1\n",
    "\n",
    "Z = df_lift_br_att.sort_values('lift',ascending = False).groupby('brand').head(10)\n",
    "print(Z.sort_values(['brand','lift'],ascending=[True,False]))"
   ]
  },
  {
   "cell_type": "code",
   "execution_count": null,
   "metadata": {
    "colab": {
     "base_uri": "https://localhost:8080/",
     "height": 423
    },
    "id": "NMyfOd1v-TBf",
    "outputId": "cde16d99-e74e-4faf-b3ce-5b85f829cfde"
   },
   "outputs": [
    {
     "data": {
      "text/html": [
       "<div>\n",
       "<style scoped>\n",
       "    .dataframe tbody tr th:only-of-type {\n",
       "        vertical-align: middle;\n",
       "    }\n",
       "\n",
       "    .dataframe tbody tr th {\n",
       "        vertical-align: top;\n",
       "    }\n",
       "\n",
       "    .dataframe thead tr th {\n",
       "        text-align: left;\n",
       "    }\n",
       "\n",
       "    .dataframe thead tr:last-of-type th {\n",
       "        text-align: right;\n",
       "    }\n",
       "</style>\n",
       "<table border=\"1\" class=\"dataframe\">\n",
       "  <thead>\n",
       "    <tr>\n",
       "      <th></th>\n",
       "      <th colspan=\"5\" halign=\"left\">lift</th>\n",
       "    </tr>\n",
       "    <tr>\n",
       "      <th>attribute</th>\n",
       "      <th>driving</th>\n",
       "      <th>luxury</th>\n",
       "      <th>manual</th>\n",
       "      <th>performance</th>\n",
       "      <th>price</th>\n",
       "    </tr>\n",
       "    <tr>\n",
       "      <th>brand</th>\n",
       "      <th></th>\n",
       "      <th></th>\n",
       "      <th></th>\n",
       "      <th></th>\n",
       "      <th></th>\n",
       "    </tr>\n",
       "  </thead>\n",
       "  <tbody>\n",
       "    <tr>\n",
       "      <th>acura</th>\n",
       "      <td>1.351351</td>\n",
       "      <td>2.045220</td>\n",
       "      <td>1.352004</td>\n",
       "      <td>1.424245</td>\n",
       "      <td>1.747612</td>\n",
       "    </tr>\n",
       "    <tr>\n",
       "      <th>audi</th>\n",
       "      <td>1.637276</td>\n",
       "      <td>1.748819</td>\n",
       "      <td>1.762205</td>\n",
       "      <td>1.525797</td>\n",
       "      <td>1.642980</td>\n",
       "    </tr>\n",
       "    <tr>\n",
       "      <th>bmw</th>\n",
       "      <td>1.443295</td>\n",
       "      <td>1.410230</td>\n",
       "      <td>1.266879</td>\n",
       "      <td>1.516732</td>\n",
       "      <td>1.693910</td>\n",
       "    </tr>\n",
       "    <tr>\n",
       "      <th>cadillac</th>\n",
       "      <td>0.979240</td>\n",
       "      <td>2.454210</td>\n",
       "      <td>1.163409</td>\n",
       "      <td>1.521401</td>\n",
       "      <td>2.098372</td>\n",
       "    </tr>\n",
       "    <tr>\n",
       "      <th>honda</th>\n",
       "      <td>2.150348</td>\n",
       "      <td>1.804403</td>\n",
       "      <td>1.442281</td>\n",
       "      <td>1.717410</td>\n",
       "      <td>1.539664</td>\n",
       "    </tr>\n",
       "    <tr>\n",
       "      <th>infiniti</th>\n",
       "      <td>1.376376</td>\n",
       "      <td>1.870557</td>\n",
       "      <td>1.245894</td>\n",
       "      <td>1.363209</td>\n",
       "      <td>1.692168</td>\n",
       "    </tr>\n",
       "    <tr>\n",
       "      <th>lincoln</th>\n",
       "      <td>0.889047</td>\n",
       "      <td>3.518154</td>\n",
       "      <td>1.358040</td>\n",
       "      <td>2.455595</td>\n",
       "      <td>1.460577</td>\n",
       "    </tr>\n",
       "    <tr>\n",
       "      <th>mercedes</th>\n",
       "      <td>0.433125</td>\n",
       "      <td>1.828237</td>\n",
       "      <td>0.588097</td>\n",
       "      <td>1.595087</td>\n",
       "      <td>1.980002</td>\n",
       "    </tr>\n",
       "    <tr>\n",
       "      <th>toyota</th>\n",
       "      <td>1.764825</td>\n",
       "      <td>2.341235</td>\n",
       "      <td>1.540463</td>\n",
       "      <td>1.973028</td>\n",
       "      <td>1.267792</td>\n",
       "    </tr>\n",
       "    <tr>\n",
       "      <th>volvo</th>\n",
       "      <td>0.993641</td>\n",
       "      <td>2.716692</td>\n",
       "      <td>1.042535</td>\n",
       "      <td>1.829659</td>\n",
       "      <td>1.651766</td>\n",
       "    </tr>\n",
       "  </tbody>\n",
       "</table>\n",
       "</div>"
      ],
      "text/plain": [
       "               lift                                          \n",
       "attribute   driving    luxury    manual performance     price\n",
       "brand                                                        \n",
       "acura      1.351351  2.045220  1.352004    1.424245  1.747612\n",
       "audi       1.637276  1.748819  1.762205    1.525797  1.642980\n",
       "bmw        1.443295  1.410230  1.266879    1.516732  1.693910\n",
       "cadillac   0.979240  2.454210  1.163409    1.521401  2.098372\n",
       "honda      2.150348  1.804403  1.442281    1.717410  1.539664\n",
       "infiniti   1.376376  1.870557  1.245894    1.363209  1.692168\n",
       "lincoln    0.889047  3.518154  1.358040    2.455595  1.460577\n",
       "mercedes   0.433125  1.828237  0.588097    1.595087  1.980002\n",
       "toyota     1.764825  2.341235  1.540463    1.973028  1.267792\n",
       "volvo      0.993641  2.716692  1.042535    1.829659  1.651766"
      ]
     },
     "execution_count": 30,
     "metadata": {},
     "output_type": "execute_result"
    }
   ],
   "source": [
    "matrix=Z.pivot(index='brand', columns='attribute')\n",
    "matrix"
   ]
  },
  {
   "cell_type": "markdown",
   "metadata": {
    "id": "HwjkU5HFmUZK"
   },
   "source": [
    "### Conclusion: The 5 most frequent mentioned features are: driving, luxury, manual, performance, and price. Driving associates with Honda, luxury associates with Lincoln, Manual associates with Audi, Performance associates with Lincoln, and price associates with Cadillac."
   ]
  },
  {
   "cell_type": "markdown",
   "metadata": {
    "id": "omYAyZFL7uI-"
   },
   "source": [
    "## Task G: What advice will you give to your client from Task F? For this assignment, you can assume that all sentiments are positive."
   ]
  },
  {
   "cell_type": "markdown",
   "metadata": {
    "id": "UBw0IOLu_R3V"
   },
   "source": [
    "**Honda and Acura**\n",
    "\n",
    "The lift values above show the 5 most frequently mentioned attributes for each of the cars. Acura seems to be most well known for its luxury over any other attribute. This is not surprising as Acura is the luxury car brand from Honda, and is not really well known for much else. Most people who would go for better driving (handling), performance, and desire manual shift cars out of these two brands would actually go for Honda. This is also not surprising because Hondas are extremely well-known Tuner cars, and are known in the car community for their ease of tuning and modifying. Honda has a decent base in the street racing community and should take more advantage of this by advertising more to the younger communities, and focusing on their Type-Rs and etc, which clearly are well known. They also can try to improve marketing for other aspects of Acura, since it's only known for its luxury values. \n",
    "\n",
    "**Lincoln and Cadillac**\n",
    "\n",
    "Lincoln has an outstanding lift value with luxury, and also a high lift value with performance coming in second. This indicated that these are their strong selling points and should be focused on more often when advertising. This also is not surprising, since Lincoln is a luxury branded subsidiary of Ford. The weakest point for Lincoln is its driving (handling) capabilities, and so Lincoln should look to further address this and aim to change that idea. \n",
    "\n",
    "Cadillac serves nearly the exact same consumer base as Lincoln and also has relatively similar lift ratios as Lincoln did, also being perceived as weak in their driving. They are however much weaker in performance, and this is a weak point when competing against Lincoln. It is advised that they improve their overall performance, and focus on marketing their stronger luxury and driving attributes. Acting on these perceptions will allow Cadillac to have an edge against Lincoln.\n",
    "\n",
    "\n",
    "**Audi and Volvo**\n",
    "\n",
    "Audi (a subsidiary of Volvo) has the highest lift with the “manual” attribute, so clearly Audi is being talked about more often by people that are aiming to drive manual cars. People that drive manual shift cars are most often car enthusiasts, which would indicate also that the other lift values should be relatively decent as well, and we see here that is the case. All the lift values for Audi are in a close range indicating it's decently well known for every attribute included in the table. Its second-highest lift value is seen with the luxury attribute. Audi, Mercedes, and BMW all equally walk a fine line between sports and luxury, so this is not unexpected. Audi, over the other brands, has the best balance of all attributes in the chart, and this is to be expected because its parent company, Volvo, is well known for its reliability, safety, and luxury already. Hence,  we would advise their marketing director to focus on its well-roundedness and versatility, with emphasis on its sporty features and handling, which diversifies this brand from its parent company.\n",
    "\n",
    "Volvo has the highest lift values with luxury and performance and being a German band, this is not a surprise. The only problems Volvos tend to be known for are their transmission problems and steering problems, all of which heavily affect driving. Therefore, as expected, the lift value for the driving attribute is low. Volvo would need to work on changing this perception if they want to expand their consumer base. \n",
    "\n",
    "**Mercedes and BMW**\n",
    "\n",
    "Mercedes and BMW, as mentioned are German luxury brands that are popularly known for their sporty feels and high maintenance costs along with high luxury. BMW often leans closer to the sports car side, while Mercedes heavily identifies as an expensive, luxury car brand over anything. After Cadillac, it has the highest lift with price overall and compared to its own lift values, Mercedes stands out in luxury. It surprisingly has a very low lift value in the driving (handling) attribute, which would indicate that users from the forums these comments were scraped from felt that Mercedes is lacking in its driving. So Mercedes would be recommended to improve their driving and handling capabilities, while strongly advertising their luxury feel to justify their high prices. \n",
    "\n",
    "BMW, like Audi, has relatively even lift values, indicating its overall versatility. BMW should also focus on this, as it would help to deflect from their relatively high price values. BMW is also known for the maintenance costs (like Mercedes and Audi), which most likely affects the higher lift value for the price.\n",
    "\n",
    "**Toyota and Infiniti**\n",
    "\n",
    "Infiniti is the luxury subsidiary of Nissan, and expectedly, it has the highest lift with the luxury attribute, closely followed by the price lift. Infiniti’s weakest point is its driving capabilities as well as its manual transmission options. Most sport car enthusiasts would not be happy with that so it is best that they focus on their luxury marketing, and work on adding more options for manual transmission cars so that they can reach out to a wider consumer base. \n",
    "\n",
    "Toyota is known for being a safe, reliable, and all-around good car to own. The lift values reflect this, with a relatively even spread of lift across all attributes. Toyota stands out with a high lift value for performance and luxury. This is unique because unlike the other cars with this trend it is Japanese. Clearly, the consumer perception indicates that Toyota should continue as they are, as these lift values are indicative of great overall brand perception. \n"
   ]
  },
  {
   "cell_type": "markdown",
   "metadata": {
    "id": "kpGJLst-7zwS"
   },
   "source": [
    "## Task H: Which is the most aspirational brand in your data in terms of people actually wanting to buy or own? Describe your analysis. What are the business implications for this brand?"
   ]
  },
  {
   "cell_type": "code",
   "execution_count": null,
   "metadata": {
    "colab": {
     "base_uri": "https://localhost:8080/",
     "height": 361
    },
    "id": "CZeisLep_6WB",
    "outputId": "78778de4-d36a-4204-f998-53579084f17b"
   },
   "outputs": [
    {
     "data": {
      "text/html": [
       "<div>\n",
       "<style scoped>\n",
       "    .dataframe tbody tr th:only-of-type {\n",
       "        vertical-align: middle;\n",
       "    }\n",
       "\n",
       "    .dataframe tbody tr th {\n",
       "        vertical-align: top;\n",
       "    }\n",
       "\n",
       "    .dataframe thead th {\n",
       "        text-align: right;\n",
       "    }\n",
       "</style>\n",
       "<table border=\"1\" class=\"dataframe\">\n",
       "  <thead>\n",
       "    <tr style=\"text-align: right;\">\n",
       "      <th></th>\n",
       "      <th>brand</th>\n",
       "      <th>brand_frequency</th>\n",
       "    </tr>\n",
       "  </thead>\n",
       "  <tbody>\n",
       "    <tr>\n",
       "      <th>1</th>\n",
       "      <td>bmw</td>\n",
       "      <td>1367</td>\n",
       "    </tr>\n",
       "    <tr>\n",
       "      <th>11</th>\n",
       "      <td>acura</td>\n",
       "      <td>362</td>\n",
       "    </tr>\n",
       "    <tr>\n",
       "      <th>8</th>\n",
       "      <td>infiniti</td>\n",
       "      <td>336</td>\n",
       "    </tr>\n",
       "    <tr>\n",
       "      <th>10</th>\n",
       "      <td>audi</td>\n",
       "      <td>272</td>\n",
       "    </tr>\n",
       "    <tr>\n",
       "      <th>13</th>\n",
       "      <td>volvo</td>\n",
       "      <td>156</td>\n",
       "    </tr>\n",
       "    <tr>\n",
       "      <th>2</th>\n",
       "      <td>mercedes</td>\n",
       "      <td>151</td>\n",
       "    </tr>\n",
       "    <tr>\n",
       "      <th>4</th>\n",
       "      <td>cadillac</td>\n",
       "      <td>129</td>\n",
       "    </tr>\n",
       "    <tr>\n",
       "      <th>5</th>\n",
       "      <td>honda</td>\n",
       "      <td>115</td>\n",
       "    </tr>\n",
       "    <tr>\n",
       "      <th>7</th>\n",
       "      <td>toyota</td>\n",
       "      <td>105</td>\n",
       "    </tr>\n",
       "    <tr>\n",
       "      <th>20</th>\n",
       "      <td>lincoln</td>\n",
       "      <td>91</td>\n",
       "    </tr>\n",
       "  </tbody>\n",
       "</table>\n",
       "</div>"
      ],
      "text/plain": [
       "       brand  brand_frequency\n",
       "1        bmw             1367\n",
       "11     acura              362\n",
       "8   infiniti              336\n",
       "10      audi              272\n",
       "13     volvo              156\n",
       "2   mercedes              151\n",
       "4   cadillac              129\n",
       "5      honda              115\n",
       "7     toyota              105\n",
       "20   lincoln               91"
      ]
     },
     "execution_count": 31,
     "metadata": {},
     "output_type": "execute_result"
    }
   ],
   "source": [
    "#read in a file that contains aspirational phrases \n",
    "aspiration = pd.read_csv('asp.csv')\n",
    "asp_list = aspiration['Phrases'].tolist()\n",
    "def replace_asp(m):\n",
    "  for i in asp_list:\n",
    "    if i in m:\n",
    "      m = m.replace(i, \"aspirational\")\n",
    "  return m\n",
    "df['asp_phrased'] = df['message'].map(replace_asp)\n",
    "\n",
    "#tokenizing and determine the frequency of each words\n",
    "df['tokens_asp'] = df['asp_phrased'].apply(identify_tokens)\n",
    "df['tokens_asp'] = df['tokens_asp'].apply(lambda x: sorted(set(x)))\n",
    "freq_asp = FreqDist(w for row in df['tokens_asp'] for w in row)\n",
    "# read brand and model file\n",
    "brand_model = pd.read_csv('car models and brands.csv',header=[0])\n",
    "brand_model[:5]\n",
    "# map models with brands using a dictionary with models as key and brands as value \n",
    "brand_model = brand_model.set_index('Model')\n",
    "brand_model_dict = brand_model['Brand'].to_dict()\n",
    "\n",
    "## Get the frequency counts of all brands\n",
    "all_brands_dict = {your_key: freq_asp[your_key] for your_key in freq_asp.keys() if your_key in brand_model_dict.values()}\n",
    "all_brands = pd.DataFrame.from_dict(all_brands_dict, orient='index').reset_index()\n",
    "all_brands.columns = ['brand','brand_frequency']\n",
    "all_brands.sort_values('brand_frequency', ascending= False, inplace=True)\n",
    "all_brands = all_brands[~all_brands.brand.isin(['car','problem','sedan','seat'])]\n",
    "top_brands = all_brands.head(10).copy()\n",
    "top_brands"
   ]
  },
  {
   "cell_type": "code",
   "execution_count": null,
   "metadata": {
    "colab": {
     "base_uri": "https://localhost:8080/"
    },
    "id": "91gTUAWGAFRq",
    "outputId": "69e568a6-b692-4d3d-93a4-9fb3077fea19"
   },
   "outputs": [
    {
     "data": {
      "text/plain": [
       "{'acura': 2.008295489942128,\n",
       " 'audi': 1.7455053237912375,\n",
       " 'bmw': 1.3349859663670365,\n",
       " 'cadillac': 1.8402226669427,\n",
       " 'honda': 1.8062185524448457,\n",
       " 'infiniti': 1.05977108944468,\n",
       " 'lincoln': 1.141291942478886,\n",
       " 'mercedes': 2.358166132804056,\n",
       " 'toyota': 1.4130281192595733,\n",
       " 'volvo': 2.282583884957772}"
      ]
     },
     "execution_count": 32,
     "metadata": {},
     "output_type": "execute_result"
    }
   ],
   "source": [
    "def lift_analysis(car,m):\n",
    "  n = len(m)\n",
    "  count = 0\n",
    "  asp_count = 0\n",
    "  both = 0\n",
    "  for i in m:\n",
    "    if \"aspirational\" in i and car in i:\n",
    "      both += 1\n",
    "    if \"aspirational\" in i:\n",
    "      asp_count += 1\n",
    "    if car in i:\n",
    "      count += 1\n",
    "\n",
    "  if both == 0:\n",
    "    return 0 \n",
    "  elif count != 0:\n",
    "    return (n*both)/(count*asp_count)\n",
    "\n",
    "lift_values = {}\n",
    "temp = 0\n",
    "for index, row in top_brands.iterrows():\n",
    "  temp = lift_analysis(row['brand'],df['tokens_asp'])\n",
    "  lift_values[row['brand']] = temp\n",
    "\n",
    "lift_values"
   ]
  },
  {
   "cell_type": "code",
   "execution_count": null,
   "metadata": {
    "colab": {
     "base_uri": "https://localhost:8080/",
     "height": 80
    },
    "id": "WEY--AeJANqQ",
    "outputId": "30e0b685-18b0-445b-e2a4-516183a41b92"
   },
   "outputs": [
    {
     "data": {
      "text/html": [
       "<div>\n",
       "<style scoped>\n",
       "    .dataframe tbody tr th:only-of-type {\n",
       "        vertical-align: middle;\n",
       "    }\n",
       "\n",
       "    .dataframe tbody tr th {\n",
       "        vertical-align: top;\n",
       "    }\n",
       "\n",
       "    .dataframe thead th {\n",
       "        text-align: right;\n",
       "    }\n",
       "</style>\n",
       "<table border=\"1\" class=\"dataframe\">\n",
       "  <thead>\n",
       "    <tr style=\"text-align: right;\">\n",
       "      <th></th>\n",
       "      <th>bmw</th>\n",
       "      <th>acura</th>\n",
       "      <th>infiniti</th>\n",
       "      <th>audi</th>\n",
       "      <th>volvo</th>\n",
       "      <th>mercedes</th>\n",
       "      <th>cadillac</th>\n",
       "      <th>honda</th>\n",
       "      <th>toyota</th>\n",
       "      <th>lincoln</th>\n",
       "    </tr>\n",
       "  </thead>\n",
       "  <tbody>\n",
       "    <tr>\n",
       "      <th>aspiration</th>\n",
       "      <td>1.334986</td>\n",
       "      <td>2.008295</td>\n",
       "      <td>1.059771</td>\n",
       "      <td>1.745505</td>\n",
       "      <td>2.282584</td>\n",
       "      <td>2.358166</td>\n",
       "      <td>1.840223</td>\n",
       "      <td>1.806219</td>\n",
       "      <td>1.413028</td>\n",
       "      <td>1.141292</td>\n",
       "    </tr>\n",
       "  </tbody>\n",
       "</table>\n",
       "</div>"
      ],
      "text/plain": [
       "                 bmw     acura  infiniti  ...     honda    toyota   lincoln\n",
       "aspiration  1.334986  2.008295  1.059771  ...  1.806219  1.413028  1.141292\n",
       "\n",
       "[1 rows x 10 columns]"
      ]
     },
     "execution_count": 33,
     "metadata": {},
     "output_type": "execute_result"
    }
   ],
   "source": [
    "asp_df = pd.DataFrame(lift_values,index = ['aspiration'])\n",
    "asp_df"
   ]
  },
  {
   "cell_type": "markdown",
   "metadata": {
    "id": "q61Rdz1HWHUl"
   },
   "source": [
    "Out of all the car brands, Mercedes had the highest lift value and thus the most aspirational brand based on our comments scraped. It is not surprising to me because Mercedes has always been associated with money, wealth, and status, so naturally it would come off as the dream car. Volvo is second with a lift value that is not too far behind, which makes sense because Volvo had a high association with Mercedes. \n",
    "\n",
    "To perform this analysis, I first identified phrases that are seen as aspirational and put them into a csv for use later. Some of these phrases includes, “want to”, “wish to”, “hope to”, and “dreaming”. Then, I read in the file containing those aspirational phrases and used it to match phrases in the comments. If an aspirational phrase appears in a comment, it will be replaced with the word “aspirational”. After replacing the phrases in the comments, I loop through the top 10 brands to perform lift analysis with “aspirational” and store those values into a dictionary. Finally, I outputted them in a data frame for interpretation purposes. \n",
    "\n",
    "For Mercedes, knowing that people associate the brand with aspirational phrases over the other brands, Mercedes could advertise their brand as aspirational to connect with the consumer sentiments and at the same time build up the brand reputation as luxurious, high-end, and other top-quality attributes. This could help Mercedes identify the overall image they should use in marketing campaigns and get a solid standing in the high-end car market. \n"
   ]
  }
 ],
 "metadata": {
  "colab": {
   "collapsed_sections": [],
   "name": "HW1_updated.ipynb",
   "provenance": []
  },
  "kernelspec": {
   "display_name": "Python 3",
   "language": "python",
   "name": "python3"
  },
  "language_info": {
   "codemirror_mode": {
    "name": "ipython",
    "version": 3
   },
   "file_extension": ".py",
   "mimetype": "text/x-python",
   "name": "python",
   "nbconvert_exporter": "python",
   "pygments_lexer": "ipython3",
   "version": "3.8.8"
  }
 },
 "nbformat": 4,
 "nbformat_minor": 1
}
